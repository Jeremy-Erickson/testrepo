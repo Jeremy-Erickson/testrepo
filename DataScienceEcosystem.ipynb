{
 "cells": [
  {
   "cell_type": "markdown",
   "id": "99f79080-508d-45f8-a5c1-c809fd10055a",
   "metadata": {},
   "source": [
    "# Data Science Tools and Ecosystem"
   ]
  },
  {
   "cell_type": "markdown",
   "id": "df5e16c4-2405-4789-b729-b4a12ca0b22c",
   "metadata": {},
   "source": [
    "In this notebook, Data Science Tools and Ecosystem are summarized."
   ]
  },
  {
   "cell_type": "markdown",
   "id": "deff62af-a042-4923-b507-22b6fbfd17cf",
   "metadata": {},
   "source": [
    "**Objectives:**\n",
    "- List popular languages for Data Science\n",
    "- List common libraries used by Data Scientists\n",
    "- Create a table of Open Source Data Science Tools\n",
    "- Create math expressions"
   ]
  },
  {
   "cell_type": "markdown",
   "id": "f48d5316-89ab-48e4-987a-b0131c17fc21",
   "metadata": {},
   "source": [
    "Some of the languages that Data Scientists use are:\n",
    "1. Python\n",
    "2. R\n",
    "3. SQL\n",
    "4. Scala\n",
    "5. Java\n",
    "6. C++\n",
    "7. Julia"
   ]
  },
  {
   "cell_type": "markdown",
   "id": "a157bdad-19b0-49d1-8821-7685a8c9ee37",
   "metadata": {},
   "source": [
    "Some of the commonly used libraries used by Data Scientists included:\n",
    "1. Pandas\n",
    "2. NumPy\n",
    "3. SciPy\n",
    "4. Matplotlib\n",
    "5. Tensorflow\n",
    "6. PyTorch"
   ]
  },
  {
   "cell_type": "markdown",
   "id": "3311871e-c99f-41dd-a3f2-bf780d5015b5",
   "metadata": {},
   "source": [
    "| Data Science Tools |\n",
    "| ------------------ |\n",
    "| MySQL |\n",
    "| PostgreSQL|\n",
    "| Ceph |\n",
    "| Jupyter |\n",
    "| RStudio |\n",
    "| Spyder |\n",
    "| Anaconda Navigator|"
   ]
  },
  {
   "cell_type": "markdown",
   "id": "4f0d83ed-fda1-40a7-9800-01a3e1ebf25b",
   "metadata": {},
   "source": [
    "### Below are a few examples of evalating arithmetic expressions in Python"
   ]
  },
  {
   "cell_type": "code",
   "execution_count": 1,
   "id": "ecf82d92-d410-48ac-a4e3-bb0f2cd383ae",
   "metadata": {},
   "outputs": [
    {
     "data": {
      "text/plain": [
       "17"
      ]
     },
     "execution_count": 1,
     "metadata": {},
     "output_type": "execute_result"
    }
   ],
   "source": [
    "# This is a simple arithmetic expression to multiply then add integers\n",
    "(3*4)+5"
   ]
  },
  {
   "cell_type": "code",
   "execution_count": 2,
   "id": "66488360-55a3-4f41-8e53-9647f7e0d84a",
   "metadata": {},
   "outputs": [
    {
     "data": {
      "text/plain": [
       "3.3333333333333335"
      ]
     },
     "execution_count": 2,
     "metadata": {},
     "output_type": "execute_result"
    }
   ],
   "source": [
    "# This will convert 200 minutes to hours by dividing by 60\n",
    "200/60"
   ]
  },
  {
   "cell_type": "markdown",
   "id": "4dc0bb67-2cbe-4c70-b241-12648456bd89",
   "metadata": {},
   "source": [
    "## Author\n",
    "Jeremy Erickson"
   ]
  },
  {
   "cell_type": "code",
   "execution_count": null,
   "id": "4e53af0e-7195-45d9-88f4-de673272fac8",
   "metadata": {},
   "outputs": [],
   "source": []
  }
 ],
 "metadata": {
  "kernelspec": {
   "display_name": "Python 3 (ipykernel)",
   "language": "python",
   "name": "python3"
  },
  "language_info": {
   "codemirror_mode": {
    "name": "ipython",
    "version": 3
   },
   "file_extension": ".py",
   "mimetype": "text/x-python",
   "name": "python",
   "nbconvert_exporter": "python",
   "pygments_lexer": "ipython3",
   "version": "3.12.7"
  }
 },
 "nbformat": 4,
 "nbformat_minor": 5
}
